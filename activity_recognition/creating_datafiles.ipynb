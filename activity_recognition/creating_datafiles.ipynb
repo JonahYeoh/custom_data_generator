{
 "cells": [
  {
   "cell_type": "markdown",
   "metadata": {},
   "source": [
    "### Creating CSV files with corresponding labels for each samples"
   ]
  },
  {
   "cell_type": "markdown",
   "metadata": {},
   "source": [
    "#### define path, class labels and create directory for storing the generated files"
   ]
  },
  {
   "cell_type": "code",
   "execution_count": 40,
   "metadata": {},
   "outputs": [],
   "source": [
    "import pandas as pd\n",
    "import os"
   ]
  },
  {
   "cell_type": "code",
   "execution_count": 41,
   "metadata": {},
   "outputs": [],
   "source": [
    "root_data_dir = 'G:\\\\video_data\\\\activity_file\\\\data_files\\\\'\n",
    "csv_path = 'G:\\\\video_data\\\\activity_file\\\\csv_files\\\\'"
   ]
  },
  {
   "cell_type": "code",
   "execution_count": 42,
   "metadata": {},
   "outputs": [],
   "source": [
    "def create_csvfiles(data_path, csv_path, labels):\n",
    "    data_dir_list = os.listdir(data_path)[:2]\n",
    "    for data_dir in data_dir_list: # looping over every activity\n",
    "        label = labels[str(data_dir)]\n",
    "        video_list = os.listdir(os.path.join(data_path,data_dir))\n",
    "        for vid in video_list: # looping over every video within an activity\n",
    "            train_df = pd.DataFrame(columns=['FileName', 'Label', 'ClassName'])\n",
    "            img_list = os.listdir(os.path.join(data_path,data_dir,vid))\n",
    "            for img in img_list:# looping over every frame within the video\n",
    "                img_path = os.path.join(data_path,data_dir,vid,img)\n",
    "                train_df = train_df.append({'FileName': img_path, 'Label': label,'ClassName':data_dir },ignore_index=True)\n",
    "            file_name='{}_{}.csv'.format(data_dir,vid)\n",
    "            train_df.to_csv('{}/{}'.format(csv_path, file_name))"
   ]
  },
  {
   "cell_type": "code",
   "execution_count": 43,
   "metadata": {},
   "outputs": [],
   "source": [
    "def func(root, csv_path):\n",
    "    if not os.path.exists(csv_path):\n",
    "        os.mkdir(csv_path)\n",
    "    labels_name = None\n",
    "    for sub_dir in os.listdir(root):\n",
    "        data_path = os.path.join(root, sub_dir)\n",
    "        data_csv = os.path.join(csv_path, sub_dir)\n",
    "        if not os.path.exists(data_csv):\n",
    "            os.mkdir(data_csv)\n",
    "        # print(data_path, data_csv)\n",
    "        if labels_name is None:\n",
    "            i = 1\n",
    "            labels_name=dict()\n",
    "            for name in os.listdir(data_path):\n",
    "                labels_name[name] = i\n",
    "                i += 1\n",
    "            # print(labels_name)\n",
    "        create_csvfiles(data_path, data_csv, labels_name)\n",
    "\n",
    "func(root_data_dir, csv_path)"
   ]
  }
 ],
 "metadata": {
  "kernelspec": {
   "display_name": "Python 3",
   "language": "python",
   "name": "python3"
  },
  "language_info": {
   "codemirror_mode": {
    "name": "ipython",
    "version": 3
   },
   "file_extension": ".py",
   "mimetype": "text/x-python",
   "name": "python",
   "nbconvert_exporter": "python",
   "pygments_lexer": "ipython3",
   "version": "3.6.12"
  }
 },
 "nbformat": 4,
 "nbformat_minor": 2
}
